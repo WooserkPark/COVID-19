{
 "cells": [
  {
   "cell_type": "code",
   "execution_count": 1,
   "id": "405d1152-a502-465f-b644-53fa6eeedd71",
   "metadata": {},
   "outputs": [],
   "source": [
    "# !pip install keplergl"
   ]
  },
  {
   "cell_type": "code",
   "execution_count": 1,
   "id": "e2839ec4-13dd-4cb1-bb15-9cc03466124d",
   "metadata": {},
   "outputs": [],
   "source": [
    "import geopandas as gpd\n",
    "import pandas as pd\n",
    "from shapely.geometry import Point\n",
    "from keplergl import KeplerGl\n",
    "from datetime import datetime"
   ]
  },
  {
   "cell_type": "code",
   "execution_count": 3,
   "id": "832b696d-c0b8-4fde-ba97-80ba8522133b",
   "metadata": {},
   "outputs": [
    {
     "data": {
      "text/html": [
       "<div>\n",
       "<style scoped>\n",
       "    .dataframe tbody tr th:only-of-type {\n",
       "        vertical-align: middle;\n",
       "    }\n",
       "\n",
       "    .dataframe tbody tr th {\n",
       "        vertical-align: top;\n",
       "    }\n",
       "\n",
       "    .dataframe thead th {\n",
       "        text-align: right;\n",
       "    }\n",
       "</style>\n",
       "<table border=\"1\" class=\"dataframe\">\n",
       "  <thead>\n",
       "    <tr style=\"text-align: right;\">\n",
       "      <th></th>\n",
       "      <th>state</th>\n",
       "      <th>county</th>\n",
       "      <th>GEOID</th>\n",
       "      <th>year</th>\n",
       "      <th>month</th>\n",
       "      <th>day</th>\n",
       "      <th>cases</th>\n",
       "      <th>new_cases</th>\n",
       "      <th>total_spend</th>\n",
       "      <th>assistance_outlay</th>\n",
       "      <th>contract_outlay</th>\n",
       "      <th>ppp_outlay</th>\n",
       "      <th>deaths</th>\n",
       "      <th>edate1</th>\n",
       "      <th>ma_new_cases</th>\n",
       "      <th>new_deaths</th>\n",
       "      <th>ma_new_deaths</th>\n",
       "    </tr>\n",
       "  </thead>\n",
       "  <tbody>\n",
       "    <tr>\n",
       "      <th>0</th>\n",
       "      <td>Alabama</td>\n",
       "      <td>Autauga</td>\n",
       "      <td>1001</td>\n",
       "      <td>2020</td>\n",
       "      <td>3</td>\n",
       "      <td>24</td>\n",
       "      <td>1</td>\n",
       "      <td>3.0</td>\n",
       "      <td>0.0</td>\n",
       "      <td>0.0</td>\n",
       "      <td>0.0</td>\n",
       "      <td>0.0</td>\n",
       "      <td>0.0</td>\n",
       "      <td>24mar2020</td>\n",
       "      <td>NaN</td>\n",
       "      <td>0.0</td>\n",
       "      <td>NaN</td>\n",
       "    </tr>\n",
       "    <tr>\n",
       "      <th>1</th>\n",
       "      <td>Alabama</td>\n",
       "      <td>Autauga</td>\n",
       "      <td>1001</td>\n",
       "      <td>2020</td>\n",
       "      <td>3</td>\n",
       "      <td>25</td>\n",
       "      <td>4</td>\n",
       "      <td>2.0</td>\n",
       "      <td>0.0</td>\n",
       "      <td>0.0</td>\n",
       "      <td>0.0</td>\n",
       "      <td>0.0</td>\n",
       "      <td>0.0</td>\n",
       "      <td>25mar2020</td>\n",
       "      <td>NaN</td>\n",
       "      <td>0.0</td>\n",
       "      <td>NaN</td>\n",
       "    </tr>\n",
       "    <tr>\n",
       "      <th>2</th>\n",
       "      <td>Alabama</td>\n",
       "      <td>Autauga</td>\n",
       "      <td>1001</td>\n",
       "      <td>2020</td>\n",
       "      <td>3</td>\n",
       "      <td>26</td>\n",
       "      <td>6</td>\n",
       "      <td>0.0</td>\n",
       "      <td>0.0</td>\n",
       "      <td>0.0</td>\n",
       "      <td>0.0</td>\n",
       "      <td>0.0</td>\n",
       "      <td>0.0</td>\n",
       "      <td>26mar2020</td>\n",
       "      <td>NaN</td>\n",
       "      <td>0.0</td>\n",
       "      <td>NaN</td>\n",
       "    </tr>\n",
       "    <tr>\n",
       "      <th>3</th>\n",
       "      <td>Alabama</td>\n",
       "      <td>Autauga</td>\n",
       "      <td>1001</td>\n",
       "      <td>2020</td>\n",
       "      <td>3</td>\n",
       "      <td>27</td>\n",
       "      <td>6</td>\n",
       "      <td>0.0</td>\n",
       "      <td>0.0</td>\n",
       "      <td>0.0</td>\n",
       "      <td>0.0</td>\n",
       "      <td>0.0</td>\n",
       "      <td>0.0</td>\n",
       "      <td>27mar2020</td>\n",
       "      <td>0.857143</td>\n",
       "      <td>0.0</td>\n",
       "      <td>0.0</td>\n",
       "    </tr>\n",
       "    <tr>\n",
       "      <th>4</th>\n",
       "      <td>Alabama</td>\n",
       "      <td>Autauga</td>\n",
       "      <td>1001</td>\n",
       "      <td>2020</td>\n",
       "      <td>3</td>\n",
       "      <td>28</td>\n",
       "      <td>6</td>\n",
       "      <td>0.0</td>\n",
       "      <td>0.0</td>\n",
       "      <td>0.0</td>\n",
       "      <td>0.0</td>\n",
       "      <td>0.0</td>\n",
       "      <td>0.0</td>\n",
       "      <td>28mar2020</td>\n",
       "      <td>0.857143</td>\n",
       "      <td>0.0</td>\n",
       "      <td>0.0</td>\n",
       "    </tr>\n",
       "  </tbody>\n",
       "</table>\n",
       "</div>"
      ],
      "text/plain": [
       "     state   county  GEOID  year  month  day  cases  new_cases  total_spend  \\\n",
       "0  Alabama  Autauga   1001  2020      3   24      1        3.0          0.0   \n",
       "1  Alabama  Autauga   1001  2020      3   25      4        2.0          0.0   \n",
       "2  Alabama  Autauga   1001  2020      3   26      6        0.0          0.0   \n",
       "3  Alabama  Autauga   1001  2020      3   27      6        0.0          0.0   \n",
       "4  Alabama  Autauga   1001  2020      3   28      6        0.0          0.0   \n",
       "\n",
       "   assistance_outlay  contract_outlay  ppp_outlay  deaths     edate1  \\\n",
       "0                0.0              0.0         0.0     0.0  24mar2020   \n",
       "1                0.0              0.0         0.0     0.0  25mar2020   \n",
       "2                0.0              0.0         0.0     0.0  26mar2020   \n",
       "3                0.0              0.0         0.0     0.0  27mar2020   \n",
       "4                0.0              0.0         0.0     0.0  28mar2020   \n",
       "\n",
       "   ma_new_cases  new_deaths  ma_new_deaths  \n",
       "0           NaN         0.0            NaN  \n",
       "1           NaN         0.0            NaN  \n",
       "2           NaN         0.0            NaN  \n",
       "3      0.857143         0.0            0.0  \n",
       "4      0.857143         0.0            0.0  "
      ]
     },
     "execution_count": 3,
     "metadata": {},
     "output_type": "execute_result"
    }
   ],
   "source": [
    "total_data = pd.read_csv('C:/Users/potat/OneDrive/Wooserk/01_project/Github/Kepler-Mapping/02_data/02_combined/total_cl.csv')\n",
    "total_data.head()"
   ]
  },
  {
   "cell_type": "code",
   "execution_count": 4,
   "id": "f6fe57a4-b808-4c07-a24c-d3930a49e6f7",
   "metadata": {},
   "outputs": [],
   "source": [
    "county = gpd.read_file('C:/Users/potat/OneDrive/Wooserk/01_project/Github/Kepler-Mapping/02_data/03_countyshape/tl_2019_us_county.shp')"
   ]
  },
  {
   "cell_type": "code",
   "execution_count": 5,
   "id": "5859c54b",
   "metadata": {},
   "outputs": [
    {
     "data": {
      "application/vnd.jupyter.widget-view+json": {
       "model_id": "d16d11b009e546fdb39ae42cb143b80e",
       "version_major": 2,
       "version_minor": 0
      },
      "text/plain": [
       "Map(config={'version': 'v1', 'config': {'mapState': {'latitude': 40, 'longitude': -100, 'zoom': 2, 'bearing': …"
      ]
     },
     "execution_count": 5,
     "metadata": {},
     "output_type": "execute_result"
    }
   ],
   "source": [
    "import leafmap.kepler as leafmap\n",
    "m = leafmap.Map(center=[40, -100], zoom=2, height=600, widescreen=False)\n",
    "m"
   ]
  },
  {
   "cell_type": "code",
   "execution_count": 9,
   "id": "e5ca7ada-c207-49e1-ade7-804d87a97b5c",
   "metadata": {},
   "outputs": [
    {
     "name": "stdout",
     "output_type": "stream",
     "text": [
      "User Guide: https://docs.kepler.gl/docs/keplergl-jupyter\n"
     ]
    },
    {
     "data": {
      "application/vnd.jupyter.widget-view+json": {
       "model_id": "79187283b89f48fd930a4d9bb8ea9963",
       "version_major": 2,
       "version_minor": 0
      },
      "text/plain": [
       "KeplerGl(height=800)"
      ]
     },
     "execution_count": 9,
     "metadata": {},
     "output_type": "execute_result"
    }
   ],
   "source": [
    "map_1 = KeplerGl(height=800)\n",
    "map_1"
   ]
  },
  {
   "cell_type": "code",
   "execution_count": 10,
   "id": "ac26a2f6-4e83-41c8-a2e9-f11aa23f2d49",
   "metadata": {},
   "outputs": [],
   "source": [
    "map_1.add_data(data=total_data, name='county')"
   ]
  },
  {
   "cell_type": "code",
   "execution_count": 11,
   "id": "c7b97e0c-f04e-44b0-9496-053c6fcc1c5e",
   "metadata": {},
   "outputs": [
    {
     "data": {
      "application/vnd.jupyter.widget-view+json": {
       "model_id": "79187283b89f48fd930a4d9bb8ea9963",
       "version_major": 2,
       "version_minor": 0
      },
      "text/plain": [
       "KeplerGl(data={'county': {'index': [0, 1, 2, 3, 4, 5, 6, 7, 8, 9, 10, 11, 12, 13, 14, 15, 16, 17, 18, 19, 20, …"
      ]
     },
     "execution_count": 11,
     "metadata": {},
     "output_type": "execute_result"
    }
   ],
   "source": [
    "map_1"
   ]
  },
  {
   "cell_type": "code",
   "execution_count": 12,
   "id": "2ddae96d",
   "metadata": {},
   "outputs": [
    {
     "name": "stdout",
     "output_type": "stream",
     "text": [
      "Map saved to C:/Users/potat/OneDrive/Wooserk/01_project/Github/COVID-19/04_htmldaily_combined_map1.html!\n"
     ]
    }
   ],
   "source": [
    "m.save_to_html(file_name='C:/Users/potat/OneDrive/Wooserk/01_project/Github/COVID-19/04_htmldaily_combined_map1.html')"
   ]
  },
  {
   "cell_type": "code",
   "execution_count": null,
   "id": "023ca7e4-cd85-48a3-a41a-34a1eab2585e",
   "metadata": {},
   "outputs": [],
   "source": []
  },
  {
   "cell_type": "code",
   "execution_count": 3,
   "id": "3f394b0a",
   "metadata": {},
   "outputs": [
    {
     "data": {
      "text/html": [
       "<div>\n",
       "<style scoped>\n",
       "    .dataframe tbody tr th:only-of-type {\n",
       "        vertical-align: middle;\n",
       "    }\n",
       "\n",
       "    .dataframe tbody tr th {\n",
       "        vertical-align: top;\n",
       "    }\n",
       "\n",
       "    .dataframe thead th {\n",
       "        text-align: right;\n",
       "    }\n",
       "</style>\n",
       "<table border=\"1\" class=\"dataframe\">\n",
       "  <thead>\n",
       "    <tr style=\"text-align: right;\">\n",
       "      <th></th>\n",
       "      <th>state_name</th>\n",
       "      <th>state_code</th>\n",
       "      <th>week_beginning</th>\n",
       "      <th>week</th>\n",
       "      <th>cumulative_cases</th>\n",
       "      <th>cumulative_deaths</th>\n",
       "      <th>cumulative_recovered</th>\n",
       "    </tr>\n",
       "  </thead>\n",
       "  <tbody>\n",
       "    <tr>\n",
       "      <th>0</th>\n",
       "      <td>Alabama</td>\n",
       "      <td>AL</td>\n",
       "      <td>1/20/2020</td>\n",
       "      <td>4</td>\n",
       "      <td>0</td>\n",
       "      <td>0</td>\n",
       "      <td>0</td>\n",
       "    </tr>\n",
       "    <tr>\n",
       "      <th>1</th>\n",
       "      <td>Alabama</td>\n",
       "      <td>AL</td>\n",
       "      <td>1/27/2020</td>\n",
       "      <td>5</td>\n",
       "      <td>0</td>\n",
       "      <td>0</td>\n",
       "      <td>0</td>\n",
       "    </tr>\n",
       "    <tr>\n",
       "      <th>2</th>\n",
       "      <td>Alabama</td>\n",
       "      <td>AL</td>\n",
       "      <td>2/3/2020</td>\n",
       "      <td>6</td>\n",
       "      <td>0</td>\n",
       "      <td>0</td>\n",
       "      <td>0</td>\n",
       "    </tr>\n",
       "    <tr>\n",
       "      <th>3</th>\n",
       "      <td>Alabama</td>\n",
       "      <td>AL</td>\n",
       "      <td>2/10/2020</td>\n",
       "      <td>7</td>\n",
       "      <td>0</td>\n",
       "      <td>0</td>\n",
       "      <td>0</td>\n",
       "    </tr>\n",
       "    <tr>\n",
       "      <th>4</th>\n",
       "      <td>Alabama</td>\n",
       "      <td>AL</td>\n",
       "      <td>2/17/2020</td>\n",
       "      <td>8</td>\n",
       "      <td>0</td>\n",
       "      <td>0</td>\n",
       "      <td>0</td>\n",
       "    </tr>\n",
       "  </tbody>\n",
       "</table>\n",
       "</div>"
      ],
      "text/plain": [
       "  state_name state_code week_beginning  week  cumulative_cases  \\\n",
       "0    Alabama         AL      1/20/2020     4                 0   \n",
       "1    Alabama         AL      1/27/2020     5                 0   \n",
       "2    Alabama         AL       2/3/2020     6                 0   \n",
       "3    Alabama         AL      2/10/2020     7                 0   \n",
       "4    Alabama         AL      2/17/2020     8                 0   \n",
       "\n",
       "   cumulative_deaths  cumulative_recovered  \n",
       "0                  0                     0  \n",
       "1                  0                     0  \n",
       "2                  0                     0  \n",
       "3                  0                     0  \n",
       "4                  0                     0  "
      ]
     },
     "execution_count": 3,
     "metadata": {},
     "output_type": "execute_result"
    }
   ],
   "source": [
    "import pandas as pd\n",
    "total_combined = pd.read_csv('/Users/sky/OneDrive/Wooserk/01_project/COVID/1_data/output/Cleaned/total_cl3.csv')\n",
    "total_combined.head()"
   ]
  },
  {
   "cell_type": "code",
   "execution_count": 4,
   "id": "3a781902",
   "metadata": {},
   "outputs": [],
   "source": [
    "m.add_data(data=total_combined, name='county')"
   ]
  },
  {
   "cell_type": "code",
   "execution_count": 5,
   "id": "4684c092",
   "metadata": {
    "scrolled": true
   },
   "outputs": [
    {
     "data": {
      "application/vnd.jupyter.widget-view+json": {
       "model_id": "7884bf3ab4284ad1b23141a58bb16e30",
       "version_major": 2,
       "version_minor": 0
      },
      "text/plain": [
       "Map(config={'version': 'v1', 'config': {'mapState': {'latitude': 40, 'longitude': -100, 'zoom': 2, 'bearing': …"
      ]
     },
     "execution_count": 5,
     "metadata": {},
     "output_type": "execute_result"
    }
   ],
   "source": [
    "m"
   ]
  },
  {
   "cell_type": "code",
   "execution_count": 22,
   "id": "1f046ab3",
   "metadata": {},
   "outputs": [
    {
     "name": "stdout",
     "output_type": "stream",
     "text": [
      "Map saved to assistance_prac1.html!\n"
     ]
    }
   ],
   "source": [
    "#m.save_to_html(file_name=\"assistance_prac1.html\")"
   ]
  },
  {
   "cell_type": "code",
   "execution_count": null,
   "id": "bc82ffff",
   "metadata": {},
   "outputs": [],
   "source": []
  }
 ],
 "metadata": {
  "kernelspec": {
   "display_name": "Python 3 (ipykernel)",
   "language": "python",
   "name": "python3"
  },
  "language_info": {
   "codemirror_mode": {
    "name": "ipython",
    "version": 3
   },
   "file_extension": ".py",
   "mimetype": "text/x-python",
   "name": "python",
   "nbconvert_exporter": "python",
   "pygments_lexer": "ipython3",
   "version": "3.12.3"
  }
 },
 "nbformat": 4,
 "nbformat_minor": 5
}
